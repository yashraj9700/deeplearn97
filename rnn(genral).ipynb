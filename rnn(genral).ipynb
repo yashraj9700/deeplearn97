{
  "nbformat": 4,
  "nbformat_minor": 0,
  "metadata": {
    "colab": {
      "provenance": []
    },
    "kernelspec": {
      "name": "python3",
      "display_name": "Python 3"
    },
    "language_info": {
      "name": "python"
    }
  },
  "cells": [
    {
      "cell_type": "code",
      "execution_count": 1,
      "metadata": {
        "colab": {
          "base_uri": "https://localhost:8080/"
        },
        "id": "XVCsoyCJPpWa",
        "outputId": "9fe28fca-ce93-4494-a552-39e558a0de83"
      },
      "outputs": [
        {
          "output_type": "stream",
          "name": "stdout",
          "text": [
            "Epoch 1/5\n"
          ]
        },
        {
          "output_type": "stream",
          "name": "stderr",
          "text": [
            "/usr/local/lib/python3.10/dist-packages/keras/src/layers/core/embedding.py:90: UserWarning: Argument `input_length` is deprecated. Just remove it.\n",
            "  warnings.warn(\n"
          ]
        },
        {
          "output_type": "stream",
          "name": "stdout",
          "text": [
            "\u001b[1m25/25\u001b[0m \u001b[32m━━━━━━━━━━━━━━━━━━━━\u001b[0m\u001b[37m\u001b[0m \u001b[1m5s\u001b[0m 50ms/step - accuracy: 0.4851 - loss: 0.6979 - val_accuracy: 0.5600 - val_loss: 0.6867\n",
            "Epoch 2/5\n",
            "\u001b[1m25/25\u001b[0m \u001b[32m━━━━━━━━━━━━━━━━━━━━\u001b[0m\u001b[37m\u001b[0m \u001b[1m1s\u001b[0m 12ms/step - accuracy: 0.8822 - loss: 0.5842 - val_accuracy: 0.5300 - val_loss: 0.7558\n",
            "Epoch 3/5\n",
            "\u001b[1m25/25\u001b[0m \u001b[32m━━━━━━━━━━━━━━━━━━━━\u001b[0m\u001b[37m\u001b[0m \u001b[1m0s\u001b[0m 13ms/step - accuracy: 0.9342 - loss: 0.2215 - val_accuracy: 0.5150 - val_loss: 1.0109\n",
            "Epoch 4/5\n",
            "\u001b[1m25/25\u001b[0m \u001b[32m━━━━━━━━━━━━━━━━━━━━\u001b[0m\u001b[37m\u001b[0m \u001b[1m0s\u001b[0m 14ms/step - accuracy: 0.9980 - loss: 0.0298 - val_accuracy: 0.5200 - val_loss: 1.3351\n",
            "Epoch 5/5\n",
            "\u001b[1m25/25\u001b[0m \u001b[32m━━━━━━━━━━━━━━━━━━━━\u001b[0m\u001b[37m\u001b[0m \u001b[1m1s\u001b[0m 12ms/step - accuracy: 1.0000 - loss: 0.0097 - val_accuracy: 0.5200 - val_loss: 1.4411\n",
            "\u001b[1m7/7\u001b[0m \u001b[32m━━━━━━━━━━━━━━━━━━━━\u001b[0m\u001b[37m\u001b[0m \u001b[1m0s\u001b[0m 6ms/step - accuracy: 0.5231 - loss: 1.4225 \n",
            "Test Accuracy: 0.5199999809265137\n",
            "\u001b[1m7/7\u001b[0m \u001b[32m━━━━━━━━━━━━━━━━━━━━\u001b[0m\u001b[37m\u001b[0m \u001b[1m0s\u001b[0m 45ms/step\n",
            "Predictions:  [[0.0805651 ]\n",
            " [0.36274195]\n",
            " [0.9869334 ]\n",
            " [0.9839595 ]\n",
            " [0.96833175]]\n"
          ]
        }
      ],
      "source": [
        "import numpy as np\n",
        "from keras.models import Sequential\n",
        "from keras.layers import SimpleRNN, Dense, Embedding\n",
        "from keras.preprocessing.sequence import pad_sequences\n",
        "from sklearn.model_selection import train_test_split\n",
        "\n",
        "# Example data - Replace with your own sequence data\n",
        "# For demonstration, we use random sequences. Normally, this could be text, time series, etc.\n",
        "data = np.random.randint(1, 1000, size=(1000, 10))  # 1000 sequences, each of length 10\n",
        "labels = np.random.randint(0, 2, size=(1000, 1))    # Binary labels for classification\n",
        "\n",
        "# Step 1: Data Preprocessing (if needed)\n",
        "# You might need to pad your sequences, depending on the dataset\n",
        "max_sequence_length = 15\n",
        "data_padded = pad_sequences(data, maxlen=max_sequence_length)\n",
        "\n",
        "# Step 2: Train-Test Split\n",
        "X_train, X_test, y_train, y_test = train_test_split(data_padded, labels, test_size=0.2, random_state=42)\n",
        "\n",
        "# Step 3: Define the General RNN Model\n",
        "model = Sequential()\n",
        "\n",
        "# Embedding layer (for text data, for example), can be skipped if using numeric data\n",
        "# Input_dim is vocabulary size or feature size for sequence data, output_dim is embedding dimension\n",
        "vocab_size = 1000  # You can set this based on your data\n",
        "embedding_dim = 64\n",
        "model.add(Embedding(input_dim=vocab_size, output_dim=embedding_dim, input_length=max_sequence_length))\n",
        "\n",
        "# RNN layer with 50 units\n",
        "model.add(SimpleRNN(50, activation='tanh'))\n",
        "\n",
        "# Fully connected output layer\n",
        "model.add(Dense(1, activation='sigmoid'))  # Sigmoid for binary classification; use softmax for multiclass\n",
        "\n",
        "# Step 4: Compile the Model\n",
        "model.compile(optimizer='adam', loss='binary_crossentropy', metrics=['accuracy'])\n",
        "\n",
        "# Step 5: Train the Model\n",
        "history = model.fit(X_train, y_train, epochs=5, batch_size=32, validation_data=(X_test, y_test))\n",
        "\n",
        "# Step 6: Evaluate the Model\n",
        "score = model.evaluate(X_test, y_test)\n",
        "print(f\"Test Accuracy: {score[1]}\")\n",
        "\n",
        "# Step 7: Make Predictions\n",
        "predictions = model.predict(X_test)\n",
        "print(\"Predictions: \", predictions[:5])  # Print first 5 predictions\n"
      ]
    }
  ]
}