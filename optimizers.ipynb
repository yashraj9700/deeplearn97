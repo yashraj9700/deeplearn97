{
  "nbformat": 4,
  "nbformat_minor": 0,
  "metadata": {
    "colab": {
      "provenance": []
    },
    "kernelspec": {
      "name": "python3",
      "display_name": "Python 3"
    },
    "language_info": {
      "name": "python"
    }
  },
  "cells": [
    {
      "cell_type": "markdown",
      "source": [
        "mini batch gradient descent\n"
      ],
      "metadata": {
        "id": "D-9evTp_Keop"
      }
    },
    {
      "cell_type": "code",
      "source": [
        "import pandas as pd\n",
        "import numpy as np\n",
        "import matplotlib.pyplot as plt\n",
        "\n",
        "np.random.seed(42)\n",
        "X=2*np.random.rand(100,1)\n",
        "Y=4+3*X+np.random.randn(100,1) # Fixed variable name from 'x' to 'X'\n",
        "X_b=np.c_[np.ones((100,1)),X]\n",
        "def mini_batch_gradient_descent(X,Y,learning_rate=0.1,n_iterations=50,batch_size=50):\n",
        "    m=len(Y) # Changed y to Y\n",
        "    theta=np.random.randn(2,1)\n",
        "    for iteration in range(n_iterations):\n",
        "        shuffled_indices=np.random.permutation(m)\n",
        "        X_shuffled_indices=X[shuffled_indices] # Changed x to X\n",
        "        y_shuffled_indices=Y[shuffled_indices] # Changed y to Y\n",
        "        for i in range (0,m,batch_size):\n",
        "            xi=X_shuffled_indices[i:i+batch_size]\n",
        "            yi=y_shuffled_indices[i:i+batch_size]\n",
        "            gradients=2/m*xi.T.dot(xi.dot(theta)-yi)\n",
        "            theta=theta-learning_rate*gradients\n",
        "    return theta # De-indent this line to match function definition\n",
        "\n",
        "theta_mbgd=stochastic_gradient_descent(X_b,Y)\n",
        "print(\"theta_mbgd:\",theta_sgd)"
      ],
      "metadata": {
        "colab": {
          "base_uri": "https://localhost:8080/"
        },
        "id": "cRcLmQx-Jw_E",
        "outputId": "f1f776a9-e7c2-4883-d211-a4bac118e8c3"
      },
      "execution_count": 8,
      "outputs": [
        {
          "output_type": "stream",
          "name": "stdout",
          "text": [
            "theta_mbgd: [[4.33483995]\n",
            " [2.43658052]]\n"
          ]
        }
      ]
    },
    {
      "cell_type": "markdown",
      "source": [
        "stochastic gradient descent\n"
      ],
      "metadata": {
        "id": "2-NHW4CxJxw5"
      }
    },
    {
      "cell_type": "code",
      "source": [
        "import pandas as pd\n",
        "import numpy as np\n",
        "import matplotlib.pyplot as plt\n",
        "\n",
        "np.random.seed(42)\n",
        "X=2*np.random.rand(100,1)\n",
        "Y=4+3*X+np.random.randn(100,1) # Fixed variable name from 'x' to 'X'\n",
        "X_b=np.c_[np.ones((100,1)),X]\n",
        "def stochastic_gradient_descent(X,Y,n_epochs=50,learning_rate=0.1):\n",
        "\n",
        "    m=len(Y) # Changed y to Y to match the function parameter\n",
        "    theta=np.random.randn(2,1)\n",
        "    for epoch in range(n_epochs):\n",
        "        for i in range(m):\n",
        "          random_index=np.random.randint(m)\n",
        "          xi=X[random_index:random_index+1]\n",
        "          yi=Y[random_index:random_index+1] # Changed y to Y to match the function parameter\n",
        "          gradients=2*xi.T.dot(xi.dot(theta)-yi)\n",
        "          theta=theta-learning_rate*gradients\n",
        "    return theta\n",
        "# Unindent these two lines to be outside the function definition\n",
        "theta_sgd=stochastic_gradient_descent(X_b,Y)\n",
        "print(\"SGDtheta:\",theta_sgd)"
      ],
      "metadata": {
        "colab": {
          "base_uri": "https://localhost:8080/"
        },
        "id": "H1Ual0koJaey",
        "outputId": "1026770a-daad-4748-e3e3-7b7bf7f07beb"
      },
      "execution_count": 7,
      "outputs": [
        {
          "output_type": "stream",
          "name": "stdout",
          "text": [
            "SGDtheta: [[4.33483995]\n",
            " [2.43658052]]\n"
          ]
        }
      ]
    },
    {
      "cell_type": "markdown",
      "source": [
        "batch gradient descent"
      ],
      "metadata": {
        "id": "qKDBiWUqJbSz"
      }
    },
    {
      "cell_type": "code",
      "source": [
        "import pandas as pd\n",
        "import numpy as np\n",
        "import matplotlib.pyplot as plt\n",
        "\n",
        "np.random.seed(42)\n",
        "X=2*np.random.rand(100,1)\n",
        "Y=4+3*X+np.random.randn(100,1) # Fixed variable name from 'x' to 'X'\n",
        "X_b=np.c_[np.ones((100,1)),X]\n",
        "\n",
        "def batch_gradient_descent(X_b,Y):\n",
        "    eta=0.1\n",
        "    n_iterations=1000\n",
        "    m=100\n",
        "\n",
        "    theta=np.random.randn(2,1)\n",
        "\n",
        "    for iteration in range(n_iterations):\n",
        "        gradients=2/m*X_b.T.dot(X_b.dot(theta)-Y)\n",
        "        theta=theta-eta*gradients\n",
        "    return theta\n",
        "\n",
        "theta_bgd=batch_gradient_descent(X_b,Y)\n",
        "print(\"BGDtheta:\",theta_bgd)"
      ],
      "metadata": {
        "colab": {
          "base_uri": "https://localhost:8080/"
        },
        "id": "kH5pLaU7IqVF",
        "outputId": "52971394-d947-4fdd-9e0d-8ad65c7717d4"
      },
      "execution_count": 5,
      "outputs": [
        {
          "output_type": "stream",
          "name": "stdout",
          "text": [
            "BGDtheta: [[4.21509616]\n",
            " [2.77011339]]\n"
          ]
        }
      ]
    },
    {
      "cell_type": "code",
      "execution_count": 3,
      "metadata": {
        "colab": {
          "base_uri": "https://localhost:8080/",
          "height": 621
        },
        "id": "wmQeGhPZF87j",
        "outputId": "6375d1d8-64dd-4f71-9d7b-c63af77927a2"
      },
      "outputs": [
        {
          "output_type": "stream",
          "name": "stdout",
          "text": [
            "Batch Gradient Descent theta: [[2.96262018]\n",
            " [3.80192916]]\n",
            "Momentum-based Gradient Descent theta: [[4.21674229]\n",
            " [2.76149943]]\n",
            "Adagrad theta: [[ 0.80977188]\n",
            " [-0.67305143]]\n",
            "RMSProp theta: [[-0.00438369]\n",
            " [ 1.54690482]]\n"
          ]
        },
        {
          "output_type": "display_data",
          "data": {
            "text/plain": [
              "<Figure size 640x480 with 1 Axes>"
            ],
            "image/png": "[encoded data removed]"
          },
          "metadata": {}
        }
      ],
      "source": [
        "import numpy as np\n",
        "import matplotlib.pyplot as plt\n",
        "\n",
        "# Seed for reproducibility\n",
        "np.random.seed(42)\n",
        "\n",
        "# Generate data\n",
        "X = 2 * np.random.rand(100, 1)\n",
        "Y = 4 + 3 * X + np.random.randn(100, 1)\n",
        "X_b = np.c_[np.ones((100, 1)), X]\n",
        "\n",
        "# Batch Gradient Descent\n",
        "def batch_gradient_descent(X_b, Y, eta=0.01, n_iterations=100):\n",
        "    m = len(X_b)\n",
        "    theta = np.random.randn(2, 1)\n",
        "    for iteration in range(n_iterations):\n",
        "        gradients = 2/m * X_b.T.dot(X_b.dot(theta) - Y)\n",
        "        theta -= eta * gradients\n",
        "    return theta\n",
        "\n",
        "# Momentum-based Gradient Descent\n",
        "def momentum_gradient_descent(X_b, Y, eta=0.01, n_iterations=100, momentum=0.9):\n",
        "    m = len(X_b)\n",
        "    theta = np.random.randn(2, 1)\n",
        "    velocity = np.zeros_like(theta)\n",
        "    for iteration in range(n_iterations):\n",
        "        gradients = 2/m * X_b.T.dot(X_b.dot(theta) - Y)\n",
        "        velocity = momentum * velocity - eta * gradients\n",
        "        theta += velocity\n",
        "    return theta\n",
        "# Adagrad\n",
        "def adagrad(X_b, Y, eta=0.01, n_iterations=100, epsilon=1e-8):\n",
        "    m = len(X_b)\n",
        "    theta = np.random.randn(2, 1)\n",
        "    G = np.zeros_like(theta)\n",
        "    for iteration in range(n_iterations):\n",
        "        gradients = 2/m * X_b.T.dot(X_b.dot(theta) - Y)\n",
        "        G += gradients**2\n",
        "        adjusted_eta = eta / (np.sqrt(G) + epsilon)\n",
        "        theta -= adjusted_eta * gradients\n",
        "    return theta\n",
        "\n",
        "# RMSProp\n",
        "def rmsprop(X_b, Y, eta=0.01, n_iterations=100, beta=0.9, epsilon=1e-8):\n",
        "    m = len(X_b)\n",
        "    theta = np.random.randn(2, 1)\n",
        "    G = np.zeros_like(theta)\n",
        "    for iteration in range(n_iterations):\n",
        "        gradients = 2/m * X_b.T.dot(X_b.dot(theta) - Y)\n",
        "        G = beta * G + (1 - beta) * gradients**2\n",
        "        adjusted_eta = eta / (np.sqrt(G) + epsilon)\n",
        "        theta -= adjusted_eta * gradients\n",
        "    return theta\n",
        "\n",
        "# Compute theta values\n",
        "theta_bgd = batch_gradient_descent(X_b, Y)\n",
        "theta_momentum = momentum_gradient_descent(X_b, Y)\n",
        "theta_adagrad = adagrad(X_b, Y)\n",
        "theta_rmsprop = rmsprop(X_b, Y)\n",
        "print(\"Batch Gradient Descent theta:\", theta_bgd)\n",
        "print(\"Momentum-based Gradient Descent theta:\", theta_momentum)\n",
        "print(\"Adagrad theta:\", theta_adagrad)\n",
        "print(\"RMSProp theta:\", theta_rmsprop)\n",
        "\n",
        "# Plotting function\n",
        "def plot_gradient_descent(X, y, theta_bgd, theta_momentum, theta_adagrad, theta_rmsprop):\n",
        "    plt.plot(X, y, \"b.\")\n",
        "    X_new = np.array([[0], [2]])\n",
        "    X_new_b = np.c_[np.ones((2, 1)), X_new]\n",
        "\n",
        "    y_predict_bgd = X_new_b.dot(theta_bgd)\n",
        "    y_predict_momentum = X_new_b.dot(theta_momentum)\n",
        "    y_predict_adagrad = X_new_b.dot(theta_adagrad)\n",
        "    y_predict_rmsprop = X_new_b.dot(theta_rmsprop)\n",
        "\n",
        "    plt.plot(X_new, y_predict_bgd, \"r-\", linewidth=2, label=\"BGD\")\n",
        "    plt.plot(X_new, y_predict_momentum, \"g-\", linewidth=2, label=\"Momentum\")\n",
        "    plt.plot(X_new, y_predict_adagrad, \"y-\", linewidth=2, label=\"Adagrad\")\n",
        "    plt.plot(X_new, y_predict_rmsprop, \"m-\", linewidth=2, label=\"RMSProp\")\n",
        "\n",
        "    plt.xlabel(\"$x_1$\", fontsize=18)\n",
        "    plt.ylabel(\"$y$\", rotation=0, fontsize=18)\n",
        "    plt.legend(loc=\"upper left\")\n",
        "    plt.title(\"Gradient Descent Comparison\")\n",
        "    plt.show()\n",
        "\n",
        "# Plot results\n",
        "plot_gradient_descent(X, Y, theta_bgd, theta_momentum, theta_adagrad, theta_rmsprop)\n"
      ]
    }
  ]
}