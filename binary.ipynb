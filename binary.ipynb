{
  "nbformat": 4,
  "nbformat_minor": 0,
  "metadata": {
    "colab": {
      "provenance": []
    },
    "kernelspec": {
      "name": "python3",
      "display_name": "Python 3"
    },
    "language_info": {
      "name": "python"
    }
  },
  "cells": [
    {
      "cell_type": "markdown",
      "source": [
        "Binary classification\n"
      ],
      "metadata": {
        "id": "JYBWad5LkdPA"
      }
    },
    {
      "cell_type": "code",
      "execution_count": 4,
      "metadata": {
        "colab": {
          "base_uri": "https://localhost:8080/"
        },
        "id": "z3Y2PKREgyM1",
        "outputId": "383da1c8-0966-4d4a-d37c-13bc73f6f6dd"
      },
      "outputs": [
        {
          "output_type": "stream",
          "name": "stdout",
          "text": [
            "Epoch: 1000, Loss: 0.235709\n",
            "Epoch: 2000, Loss: 0.198913\n",
            "Epoch: 3000, Loss: 0.147844\n",
            "Epoch: 4000, Loss: 0.080936\n",
            "Epoch: 5000, Loss: 0.032734\n",
            "Epoch: 6000, Loss: 0.015943\n",
            "Epoch: 7000, Loss: 0.009609\n",
            "Epoch: 8000, Loss: 0.006612\n",
            "Epoch: 9000, Loss: 0.004940\n",
            "Epoch: 10000, Loss: 0.003898\n",
            "Epoch: 11000, Loss: 0.003195\n",
            "Epoch: 12000, Loss: 0.002694\n",
            "Epoch: 13000, Loss: 0.002320\n",
            "Epoch: 14000, Loss: 0.002032\n",
            "Epoch: 15000, Loss: 0.001804\n",
            "Epoch: 16000, Loss: 0.001620\n",
            "Epoch: 17000, Loss: 0.001468\n",
            "Epoch: 18000, Loss: 0.001340\n",
            "Epoch: 19000, Loss: 0.001232\n",
            "Epoch: 20000, Loss: 0.001139\n",
            "Epoch: 21000, Loss: 0.001059\n",
            "Epoch: 22000, Loss: 0.000989\n",
            "Epoch: 23000, Loss: 0.000927\n",
            "Epoch: 24000, Loss: 0.000872\n",
            "Epoch: 25000, Loss: 0.000822\n",
            "Epoch: 26000, Loss: 0.000778\n",
            "Epoch: 27000, Loss: 0.000738\n",
            "Epoch: 28000, Loss: 0.000702\n",
            "Epoch: 29000, Loss: 0.000669\n",
            "Epoch: 30000, Loss: 0.000639\n",
            "[(array([0, 0]), 0.02), (array([0, 1]), 0.98), (array([1, 0]), 0.97), (array([1, 1]), 0.03)]\n"
          ]
        }
      ],
      "source": [
        "import numpy as np\n",
        "\n",
        "# Sigmoid function\n",
        "def sigmoid(x):\n",
        "    return 1 / (1 + np.exp(-x))\n",
        "\n",
        "# Derivative of sigmoid function\n",
        "def sigmoid_derivative(x):\n",
        "    return x * (1 - x)\n",
        "\n",
        "# Mean Squared Error loss function\n",
        "def mean_squared_error_loss(y_true, y_pred):\n",
        "    return np.mean((y_true - y_pred) ** 2)\n",
        "\n",
        "# Inputs and outputs for XOR problem\n",
        "inputs = np.array([[0, 0], [0, 1], [1, 0], [1, 1]])\n",
        "outputs = np.array([[0], [1], [1], [0]])\n",
        "\n",
        "# Setting a random seed for reproducibility\n",
        "np.random.seed(42)\n",
        "\n",
        "# Initializing sizes\n",
        "input_size = 2\n",
        "hidden_size = 4\n",
        "output_size = 1\n",
        "\n",
        "# Initializing weights and biases\n",
        "weights_input_hidden = np.random.rand(input_size, hidden_size)\n",
        "bias_hidden = np.random.randn(hidden_size)\n",
        "weights_hidden_output = np.random.rand(hidden_size, output_size)\n",
        "bias_output = np.random.randn(output_size)\n",
        "\n",
        "learning_rate = 0.1\n",
        "epochs = 30000\n",
        "\n",
        "# Training loop\n",
        "for epoch in range(epochs):\n",
        "    # Forward pass\n",
        "    hidden_input = np.dot(inputs, weights_input_hidden) + bias_hidden\n",
        "    hidden_output = sigmoid(hidden_input)\n",
        "\n",
        "    final_input = np.dot(hidden_output, weights_hidden_output) + bias_output\n",
        "    final_output = sigmoid(final_input)\n",
        "\n",
        "    # Calculate loss\n",
        "    loss = mean_squared_error_loss(outputs, final_output)\n",
        "\n",
        "    # Backpropagation\n",
        "    error_output = final_output - outputs\n",
        "    gradient_output = error_output * sigmoid_derivative(final_output)\n",
        "\n",
        "    error_hidden = np.dot(gradient_output, weights_hidden_output.T)\n",
        "    gradient_hidden = error_hidden * sigmoid_derivative(hidden_output)\n",
        "\n",
        "    # Update weights and biases\n",
        "    weights_hidden_output -= learning_rate * np.dot(hidden_output.T, gradient_output)\n",
        "    bias_output -= learning_rate * np.mean(gradient_output, axis=0)\n",
        "\n",
        "    weights_input_hidden -= learning_rate * np.dot(inputs.T, gradient_hidden)\n",
        "    bias_hidden -= learning_rate * np.mean(gradient_hidden, axis=0)\n",
        "\n",
        "    # Print loss every 1000 epochs\n",
        "    if (epoch + 1) % 1000 == 0:\n",
        "        print(f\"Epoch: {epoch + 1}, Loss: {loss:.6f}\")\n",
        "\n",
        "# Testing the network\n",
        "result = []\n",
        "for input_pair in inputs:\n",
        "    hidden_input = np.dot(input_pair, weights_input_hidden) + bias_hidden\n",
        "    hidden_output = sigmoid(hidden_input)\n",
        "\n",
        "    final_input = np.dot(hidden_output, weights_hidden_output) + bias_output\n",
        "    final_output = sigmoid(final_input)\n",
        "\n",
        "    result.append((input_pair, np.round(final_output[0], 2)))\n",
        "\n",
        "# Print the results\n",
        "print(result)\n"
      ]
    }
  ]
}